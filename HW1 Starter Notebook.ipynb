{
 "cells": [
  {
   "cell_type": "markdown",
   "metadata": {},
   "source": [
    "All code used to run the analysis is located in the online repository here:\n",
    "https://github.com/jonathanventura/canopy\n",
    "Files needed:Hyperspectral Imagery: data/NEON_D17_TEAK_DP1_20170627_181333_reflectance.tif\n"
   ]
  },
  {
   "cell_type": "code",
   "execution_count": 2,
   "metadata": {
    "colab": {
     "background_save": true
    },
    "id": "5OUW75f1w56j"
   },
   "outputs": [],
   "source": [
    "import numpy as np\n",
    "import sklearn\n",
    "import torch\n",
    "\n"
   ]
  },
  {
   "cell_type": "code",
   "execution_count": 3,
   "metadata": {
    "colab": {
     "background_save": true
    },
    "id": "CNAG8fBHw_ns"
   },
   "outputs": [],
   "source": [
    "#  Not needed as I have the actual file locally because this code wasn't working for me :/\n",
    "# if not os.path.exists('tree_species_classifier_data.npz'):\n",
    "#   !wget -O tree_species_classifier_data.npz \"https://www.dropbox.com/scl/fi/b7mw23k3ifaeui9m8nnn3/tree_species_classifier_data.npz?rlkey=bgxp37c1t04i7q35waf3slc26&dl=1\""
   ]
  },
  {
   "cell_type": "code",
   "execution_count": 4,
   "metadata": {
    "colab": {
     "background_save": true
    },
    "id": "XSnb9owtxT5w"
   },
   "outputs": [],
   "source": [
    "data = np.load('tree_species_classifier_data.npz')\n",
    "train_features = data['train_features']\n",
    "train_labels = data['train_labels']\n",
    "test_features = data['test_features']\n",
    "test_labels = data['test_labels']"
   ]
  },
  {
   "cell_type": "markdown",
   "metadata": {},
   "source": [
    "Step 1: Inspect the Data"
   ]
  },
  {
   "cell_type": "code",
   "execution_count": 5,
   "metadata": {},
   "outputs": [],
   "source": [
    "# Step 2: Preprocess the data with PCA\n",
    "train_labels = torch.tensor(train_labels).long()\n",
    "test_labels = torch.tensor(test_labels).long()\n",
    "\n",
    "# Fit the PCA model using 32 components and whiten = True from the instructions\n",
    "pca = sklearn.decomposition.PCA(n_components=32, whiten=True)\n",
    "pca_train_features = torch.tensor(pca.fit_transform(train_features)).float()\n",
    "pca_test_features = torch.tensor(pca.transform(test_features)).float()\n",
    "\n"
   ]
  },
  {
   "cell_type": "code",
   "execution_count": 6,
   "metadata": {},
   "outputs": [
    {
     "name": "stdout",
     "output_type": "stream",
     "text": [
      "pca_train_features shape: torch.Size([15707, 32])\n",
      "train_labels shape: torch.Size([15707])\n"
     ]
    }
   ],
   "source": [
    "print(f\"pca_train_features shape: {pca_train_features.shape}\")\n",
    "print(f\"train_labels shape: {train_labels.shape}\")\n"
   ]
  },
  {
   "cell_type": "code",
   "execution_count": 7,
   "metadata": {},
   "outputs": [
    {
     "name": "stdout",
     "output_type": "stream",
     "text": [
      "Linear Train Accuracy with scikit-learn : 0.8553511173362195\n",
      "Linear Test Accuracy with scikit-learn : 0.833976833976834\n",
      "MLP Train Accuracy with scikit-learn : 0.9999363341185459\n",
      "MLP Test Accuracy with scikit-learn : 0.824967824967825\n"
     ]
    }
   ],
   "source": [
    "# Step 3: Classifiers Using scikit-learn\n",
    "import sklearn.linear_model\n",
    "import sklearn.neural_network\n",
    "\n",
    "\n",
    "linear_model_sklearn = sklearn.linear_model.LogisticRegression()\n",
    "linear_model_sklearn.fit(pca_train_features, train_labels)\n",
    "\n",
    "linear_sklearn_accuracy_train = linear_model_sklearn.score(pca_train_features, train_labels)\n",
    "linear_sklearn_accuracy_test = linear_model_sklearn.score(pca_test_features, test_labels)\n",
    "print(f\"Linear Train Accuracy with scikit-learn : {linear_sklearn_accuracy_train}\")\n",
    "print(f\"Linear Test Accuracy with scikit-learn : {linear_sklearn_accuracy_test}\")\n",
    "\n",
    "mlp_model_sklearn = sklearn.neural_network.MLPClassifier(hidden_layer_sizes=(100, 100, 100))\n",
    "mlp_model_sklearn.fit(pca_train_features, train_labels)\n",
    "\n",
    "mlp_sklearn_accuracy_train = mlp_model_sklearn.score(pca_train_features, train_labels)\n",
    "mlp_sklearn_accuracy_test = mlp_model_sklearn.score(pca_test_features, test_labels)\n",
    "print(f\"MLP Train Accuracy with scikit-learn : {mlp_sklearn_accuracy_train}\")\n",
    "print(f\"MLP Test Accuracy with scikit-learn : {mlp_sklearn_accuracy_test}\")\n"
   ]
  },
  {
   "cell_type": "code",
   "execution_count": 8,
   "metadata": {},
   "outputs": [],
   "source": [
    "# Step 4: Classifiers using PyTorch\n",
    "\n",
    "linear_model_torch = torch.nn.Sequential(\n",
    "    torch.nn.Linear(32, len(np.unique(train_labels))), # 32 inputs, number of train_label outputs\n",
    ")\n",
    "# Like in Lab 3.1, use Multi-Layer Perceptron (MLP) to implement all 100 hidden layers. \n",
    "mlp_model_torch = torch.nn.Sequential(\n",
    "    torch.nn.Linear(32, 100), # 32 inputs, 1 hidden layer of size 100\n",
    "    \n",
    "    # hidden activation function, the magic happens\n",
    "    torch.nn.ReLU(),\n",
    "    \n",
    "    # 100 inputs, number of train_label outputs\n",
    "    torch.nn.Linear(100, len(np.unique(train_labels))) \n",
    ")\n"
   ]
  },
  {
   "cell_type": "code",
   "execution_count": 9,
   "metadata": {},
   "outputs": [],
   "source": [
    "# Create a cross-entropy loss function and a stochastic gradient descent (SGD) optimizer\n",
    "loss_function = torch.nn.CrossEntropyLoss()\n",
    "lr = 1e-2\n",
    "linear_opt = torch.optim.SGD(linear_model_torch.parameters(), lr=lr, weight_decay=0.001)\n",
    "mlp_opt = torch.optim.SGD(mlp_model_torch.parameters(), lr=lr, weight_decay=0.001)\n"
   ]
  },
  {
   "cell_type": "code",
   "execution_count": 10,
   "metadata": {},
   "outputs": [],
   "source": [
    "# a. Create TensorDataset and DataLoader to train and test splits\n",
    "batch_size = 32\n",
    "\n",
    "train_dataset = torch.utils.data.TensorDataset(pca_train_features, train_labels)\n",
    "test_dataset = torch.utils.data.TensorDataset(pca_test_features, test_labels)\n",
    "\n",
    "train_loader = torch.utils.data.DataLoader(train_dataset, batch_size=batch_size, shuffle=True)\n",
    "test_loader = torch.utils.data.DataLoader(test_dataset, batch_size=batch_size, shuffle=False)"
   ]
  },
  {
   "cell_type": "code",
   "execution_count": 11,
   "metadata": {},
   "outputs": [],
   "source": [
    "# b. calculate model accuracy with data loader\n",
    "def accuracy(model, dataloader):\n",
    "    model.eval()\n",
    "    correct = 0\n",
    "    total = 0\n",
    "    \n",
    "    with torch.no_grad():\n",
    "        for batch_X, batch_y in dataloader:\n",
    "            z = model(batch_X)\n",
    "            sample, predicted_labels = torch.max(z, dim=1)\n",
    "            correct += (predicted_labels == batch_y).sum().item()\n",
    "            total += batch_y.size(0)\n",
    "\n",
    "    return correct/total\n"
   ]
  },
  {
   "cell_type": "code",
   "execution_count": 12,
   "metadata": {},
   "outputs": [],
   "source": [
    "# c. Function to train model\n",
    "\n",
    "def trainModel(model, train_loader, opt, loss_fn):\n",
    "    model.train()\n",
    "    epochs = 100\n",
    "    for epoch in range(epochs):\n",
    "        total_loss = 0\n",
    "\n",
    "        for batch_X, batch_y in train_loader:\n",
    "            opt.zero_grad()  # 1. zero out gradients\n",
    "\n",
    "            z = model(batch_X)  # 2. Forward pass\n",
    "            loss = loss_fn(z, batch_y)  # 3. Compute loss\n",
    "\n",
    "            loss.backward()  # 4. Backpropagation\n",
    "            opt.step()  # 5. Apply gradients\n",
    "\n",
    "            total_loss += loss.item()\n",
    "        train_accuracy = accuracy(model, train_loader)\n",
    "        test_accuracy = accuracy(model, test_loader)\n",
    "        \n",
    "        print(f\"Epoch {epoch+1}/{epochs}, Loss: {total_loss/len(train_loader):.4f}, \"\n",
    "              f\"Train Accuracy: {train_accuracy:.4f}, Test Accuracy: {test_accuracy:.4f}\")\n"
   ]
  },
  {
   "cell_type": "code",
   "execution_count": 13,
   "metadata": {},
   "outputs": [
    {
     "name": "stdout",
     "output_type": "stream",
     "text": [
      "Epoch 1/100, Loss: 1.5420, Train Accuracy: 0.7473, Test Accuracy: 0.7497\n",
      "Epoch 2/100, Loss: 0.9776, Train Accuracy: 0.7898, Test Accuracy: 0.7934\n",
      "Epoch 3/100, Loss: 0.8207, Train Accuracy: 0.8037, Test Accuracy: 0.7992\n",
      "Epoch 4/100, Loss: 0.7498, Train Accuracy: 0.8137, Test Accuracy: 0.8057\n",
      "Epoch 5/100, Loss: 0.7088, Train Accuracy: 0.8201, Test Accuracy: 0.8037\n",
      "Epoch 6/100, Loss: 0.6817, Train Accuracy: 0.8249, Test Accuracy: 0.8069\n",
      "Epoch 7/100, Loss: 0.6625, Train Accuracy: 0.8282, Test Accuracy: 0.8063\n",
      "Epoch 8/100, Loss: 0.6480, Train Accuracy: 0.8299, Test Accuracy: 0.8095\n",
      "Epoch 9/100, Loss: 0.6368, Train Accuracy: 0.8320, Test Accuracy: 0.8134\n",
      "Epoch 10/100, Loss: 0.6275, Train Accuracy: 0.8332, Test Accuracy: 0.8160\n",
      "Epoch 11/100, Loss: 0.6199, Train Accuracy: 0.8342, Test Accuracy: 0.8166\n",
      "Epoch 12/100, Loss: 0.6135, Train Accuracy: 0.8349, Test Accuracy: 0.8179\n",
      "Epoch 13/100, Loss: 0.6080, Train Accuracy: 0.8361, Test Accuracy: 0.8192\n",
      "Epoch 14/100, Loss: 0.6035, Train Accuracy: 0.8373, Test Accuracy: 0.8185\n",
      "Epoch 15/100, Loss: 0.5993, Train Accuracy: 0.8382, Test Accuracy: 0.8185\n",
      "Epoch 16/100, Loss: 0.5957, Train Accuracy: 0.8387, Test Accuracy: 0.8179\n",
      "Epoch 17/100, Loss: 0.5924, Train Accuracy: 0.8391, Test Accuracy: 0.8198\n",
      "Epoch 18/100, Loss: 0.5895, Train Accuracy: 0.8398, Test Accuracy: 0.8185\n",
      "Epoch 19/100, Loss: 0.5870, Train Accuracy: 0.8403, Test Accuracy: 0.8218\n",
      "Epoch 20/100, Loss: 0.5846, Train Accuracy: 0.8403, Test Accuracy: 0.8230\n",
      "Epoch 21/100, Loss: 0.5825, Train Accuracy: 0.8412, Test Accuracy: 0.8230\n",
      "Epoch 22/100, Loss: 0.5805, Train Accuracy: 0.8414, Test Accuracy: 0.8230\n",
      "Epoch 23/100, Loss: 0.5787, Train Accuracy: 0.8419, Test Accuracy: 0.8237\n",
      "Epoch 24/100, Loss: 0.5771, Train Accuracy: 0.8422, Test Accuracy: 0.8237\n",
      "Epoch 25/100, Loss: 0.5756, Train Accuracy: 0.8427, Test Accuracy: 0.8256\n",
      "Epoch 26/100, Loss: 0.5743, Train Accuracy: 0.8427, Test Accuracy: 0.8256\n",
      "Epoch 27/100, Loss: 0.5728, Train Accuracy: 0.8436, Test Accuracy: 0.8263\n",
      "Epoch 28/100, Loss: 0.5715, Train Accuracy: 0.8441, Test Accuracy: 0.8269\n",
      "Epoch 29/100, Loss: 0.5705, Train Accuracy: 0.8443, Test Accuracy: 0.8263\n",
      "Epoch 30/100, Loss: 0.5695, Train Accuracy: 0.8443, Test Accuracy: 0.8263\n",
      "Epoch 31/100, Loss: 0.5685, Train Accuracy: 0.8444, Test Accuracy: 0.8275\n",
      "Epoch 32/100, Loss: 0.5674, Train Accuracy: 0.8441, Test Accuracy: 0.8263\n",
      "Epoch 33/100, Loss: 0.5666, Train Accuracy: 0.8444, Test Accuracy: 0.8269\n",
      "Epoch 34/100, Loss: 0.5657, Train Accuracy: 0.8450, Test Accuracy: 0.8263\n",
      "Epoch 35/100, Loss: 0.5651, Train Accuracy: 0.8453, Test Accuracy: 0.8269\n",
      "Epoch 36/100, Loss: 0.5641, Train Accuracy: 0.8456, Test Accuracy: 0.8256\n",
      "Epoch 37/100, Loss: 0.5634, Train Accuracy: 0.8458, Test Accuracy: 0.8250\n",
      "Epoch 38/100, Loss: 0.5629, Train Accuracy: 0.8457, Test Accuracy: 0.8230\n",
      "Epoch 39/100, Loss: 0.5622, Train Accuracy: 0.8454, Test Accuracy: 0.8237\n",
      "Epoch 40/100, Loss: 0.5616, Train Accuracy: 0.8456, Test Accuracy: 0.8250\n",
      "Epoch 41/100, Loss: 0.5610, Train Accuracy: 0.8456, Test Accuracy: 0.8250\n",
      "Epoch 42/100, Loss: 0.5604, Train Accuracy: 0.8457, Test Accuracy: 0.8250\n",
      "Epoch 43/100, Loss: 0.5599, Train Accuracy: 0.8461, Test Accuracy: 0.8237\n",
      "Epoch 44/100, Loss: 0.5594, Train Accuracy: 0.8464, Test Accuracy: 0.8243\n",
      "Epoch 45/100, Loss: 0.5589, Train Accuracy: 0.8468, Test Accuracy: 0.8256\n",
      "Epoch 46/100, Loss: 0.5586, Train Accuracy: 0.8464, Test Accuracy: 0.8256\n",
      "Epoch 47/100, Loss: 0.5580, Train Accuracy: 0.8468, Test Accuracy: 0.8263\n",
      "Epoch 48/100, Loss: 0.5577, Train Accuracy: 0.8464, Test Accuracy: 0.8243\n",
      "Epoch 49/100, Loss: 0.5572, Train Accuracy: 0.8466, Test Accuracy: 0.8250\n",
      "Epoch 50/100, Loss: 0.5569, Train Accuracy: 0.8467, Test Accuracy: 0.8250\n",
      "Epoch 51/100, Loss: 0.5564, Train Accuracy: 0.8467, Test Accuracy: 0.8250\n",
      "Epoch 52/100, Loss: 0.5561, Train Accuracy: 0.8467, Test Accuracy: 0.8263\n",
      "Epoch 53/100, Loss: 0.5558, Train Accuracy: 0.8468, Test Accuracy: 0.8269\n",
      "Epoch 54/100, Loss: 0.5555, Train Accuracy: 0.8469, Test Accuracy: 0.8282\n",
      "Epoch 55/100, Loss: 0.5552, Train Accuracy: 0.8469, Test Accuracy: 0.8263\n",
      "Epoch 56/100, Loss: 0.5548, Train Accuracy: 0.8468, Test Accuracy: 0.8263\n",
      "Epoch 57/100, Loss: 0.5545, Train Accuracy: 0.8469, Test Accuracy: 0.8263\n",
      "Epoch 58/100, Loss: 0.5543, Train Accuracy: 0.8467, Test Accuracy: 0.8256\n",
      "Epoch 59/100, Loss: 0.5539, Train Accuracy: 0.8471, Test Accuracy: 0.8243\n",
      "Epoch 60/100, Loss: 0.5537, Train Accuracy: 0.8471, Test Accuracy: 0.8275\n",
      "Epoch 61/100, Loss: 0.5534, Train Accuracy: 0.8473, Test Accuracy: 0.8282\n",
      "Epoch 62/100, Loss: 0.5531, Train Accuracy: 0.8473, Test Accuracy: 0.8263\n",
      "Epoch 63/100, Loss: 0.5529, Train Accuracy: 0.8473, Test Accuracy: 0.8250\n",
      "Epoch 64/100, Loss: 0.5527, Train Accuracy: 0.8473, Test Accuracy: 0.8256\n",
      "Epoch 65/100, Loss: 0.5525, Train Accuracy: 0.8473, Test Accuracy: 0.8256\n",
      "Epoch 66/100, Loss: 0.5522, Train Accuracy: 0.8473, Test Accuracy: 0.8256\n",
      "Epoch 67/100, Loss: 0.5522, Train Accuracy: 0.8475, Test Accuracy: 0.8263\n",
      "Epoch 68/100, Loss: 0.5519, Train Accuracy: 0.8478, Test Accuracy: 0.8263\n",
      "Epoch 69/100, Loss: 0.5518, Train Accuracy: 0.8474, Test Accuracy: 0.8263\n",
      "Epoch 70/100, Loss: 0.5515, Train Accuracy: 0.8471, Test Accuracy: 0.8263\n",
      "Epoch 71/100, Loss: 0.5513, Train Accuracy: 0.8473, Test Accuracy: 0.8263\n",
      "Epoch 72/100, Loss: 0.5512, Train Accuracy: 0.8476, Test Accuracy: 0.8256\n",
      "Epoch 73/100, Loss: 0.5509, Train Accuracy: 0.8476, Test Accuracy: 0.8250\n",
      "Epoch 74/100, Loss: 0.5508, Train Accuracy: 0.8478, Test Accuracy: 0.8269\n",
      "Epoch 75/100, Loss: 0.5507, Train Accuracy: 0.8479, Test Accuracy: 0.8256\n",
      "Epoch 76/100, Loss: 0.5505, Train Accuracy: 0.8475, Test Accuracy: 0.8250\n",
      "Epoch 77/100, Loss: 0.5503, Train Accuracy: 0.8476, Test Accuracy: 0.8250\n",
      "Epoch 78/100, Loss: 0.5502, Train Accuracy: 0.8478, Test Accuracy: 0.8269\n",
      "Epoch 79/100, Loss: 0.5500, Train Accuracy: 0.8480, Test Accuracy: 0.8263\n",
      "Epoch 80/100, Loss: 0.5498, Train Accuracy: 0.8480, Test Accuracy: 0.8250\n",
      "Epoch 81/100, Loss: 0.5499, Train Accuracy: 0.8480, Test Accuracy: 0.8256\n",
      "Epoch 82/100, Loss: 0.5497, Train Accuracy: 0.8478, Test Accuracy: 0.8269\n",
      "Epoch 83/100, Loss: 0.5494, Train Accuracy: 0.8479, Test Accuracy: 0.8275\n",
      "Epoch 84/100, Loss: 0.5494, Train Accuracy: 0.8477, Test Accuracy: 0.8269\n",
      "Epoch 85/100, Loss: 0.5493, Train Accuracy: 0.8478, Test Accuracy: 0.8263\n",
      "Epoch 86/100, Loss: 0.5491, Train Accuracy: 0.8476, Test Accuracy: 0.8263\n",
      "Epoch 87/100, Loss: 0.5491, Train Accuracy: 0.8480, Test Accuracy: 0.8269\n",
      "Epoch 88/100, Loss: 0.5489, Train Accuracy: 0.8478, Test Accuracy: 0.8269\n",
      "Epoch 89/100, Loss: 0.5488, Train Accuracy: 0.8479, Test Accuracy: 0.8275\n",
      "Epoch 90/100, Loss: 0.5487, Train Accuracy: 0.8478, Test Accuracy: 0.8269\n",
      "Epoch 91/100, Loss: 0.5486, Train Accuracy: 0.8478, Test Accuracy: 0.8275\n",
      "Epoch 92/100, Loss: 0.5484, Train Accuracy: 0.8479, Test Accuracy: 0.8275\n",
      "Epoch 93/100, Loss: 0.5483, Train Accuracy: 0.8480, Test Accuracy: 0.8269\n",
      "Epoch 94/100, Loss: 0.5483, Train Accuracy: 0.8482, Test Accuracy: 0.8269\n",
      "Epoch 95/100, Loss: 0.5482, Train Accuracy: 0.8480, Test Accuracy: 0.8282\n",
      "Epoch 96/100, Loss: 0.5481, Train Accuracy: 0.8481, Test Accuracy: 0.8275\n",
      "Epoch 97/100, Loss: 0.5480, Train Accuracy: 0.8485, Test Accuracy: 0.8275\n",
      "Epoch 98/100, Loss: 0.5480, Train Accuracy: 0.8485, Test Accuracy: 0.8275\n",
      "Epoch 99/100, Loss: 0.5477, Train Accuracy: 0.8482, Test Accuracy: 0.8275\n",
      "Epoch 100/100, Loss: 0.5477, Train Accuracy: 0.8480, Test Accuracy: 0.8269\n"
     ]
    }
   ],
   "source": [
    "trainModel(linear_model_torch, train_loader, linear_opt, loss_function)\n"
   ]
  },
  {
   "cell_type": "code",
   "execution_count": 14,
   "metadata": {},
   "outputs": [
    {
     "name": "stdout",
     "output_type": "stream",
     "text": [
      "Epoch 1/100, Loss: 1.6230, Train Accuracy: 0.6598, Test Accuracy: 0.6622\n",
      "Epoch 2/100, Loss: 1.0739, Train Accuracy: 0.7685, Test Accuracy: 0.7735\n",
      "Epoch 3/100, Loss: 0.7996, Train Accuracy: 0.7987, Test Accuracy: 0.7967\n",
      "Epoch 4/100, Loss: 0.6768, Train Accuracy: 0.8196, Test Accuracy: 0.8121\n",
      "Epoch 5/100, Loss: 0.6106, Train Accuracy: 0.8293, Test Accuracy: 0.8108\n",
      "Epoch 6/100, Loss: 0.5696, Train Accuracy: 0.8396, Test Accuracy: 0.8230\n",
      "Epoch 7/100, Loss: 0.5418, Train Accuracy: 0.8470, Test Accuracy: 0.8320\n",
      "Epoch 8/100, Loss: 0.5211, Train Accuracy: 0.8519, Test Accuracy: 0.8333\n",
      "Epoch 9/100, Loss: 0.5051, Train Accuracy: 0.8561, Test Accuracy: 0.8372\n",
      "Epoch 10/100, Loss: 0.4916, Train Accuracy: 0.8585, Test Accuracy: 0.8391\n",
      "Epoch 11/100, Loss: 0.4802, Train Accuracy: 0.8606, Test Accuracy: 0.8411\n",
      "Epoch 12/100, Loss: 0.4700, Train Accuracy: 0.8626, Test Accuracy: 0.8468\n",
      "Epoch 13/100, Loss: 0.4613, Train Accuracy: 0.8650, Test Accuracy: 0.8507\n",
      "Epoch 14/100, Loss: 0.4533, Train Accuracy: 0.8669, Test Accuracy: 0.8501\n",
      "Epoch 15/100, Loss: 0.4457, Train Accuracy: 0.8681, Test Accuracy: 0.8494\n",
      "Epoch 16/100, Loss: 0.4387, Train Accuracy: 0.8705, Test Accuracy: 0.8507\n",
      "Epoch 17/100, Loss: 0.4324, Train Accuracy: 0.8726, Test Accuracy: 0.8507\n",
      "Epoch 18/100, Loss: 0.4266, Train Accuracy: 0.8735, Test Accuracy: 0.8494\n",
      "Epoch 19/100, Loss: 0.4208, Train Accuracy: 0.8755, Test Accuracy: 0.8520\n",
      "Epoch 20/100, Loss: 0.4156, Train Accuracy: 0.8769, Test Accuracy: 0.8488\n",
      "Epoch 21/100, Loss: 0.4108, Train Accuracy: 0.8778, Test Accuracy: 0.8456\n",
      "Epoch 22/100, Loss: 0.4061, Train Accuracy: 0.8809, Test Accuracy: 0.8436\n",
      "Epoch 23/100, Loss: 0.4016, Train Accuracy: 0.8791, Test Accuracy: 0.8488\n",
      "Epoch 24/100, Loss: 0.3974, Train Accuracy: 0.8811, Test Accuracy: 0.8456\n",
      "Epoch 25/100, Loss: 0.3932, Train Accuracy: 0.8822, Test Accuracy: 0.8449\n",
      "Epoch 26/100, Loss: 0.3896, Train Accuracy: 0.8832, Test Accuracy: 0.8475\n",
      "Epoch 27/100, Loss: 0.3858, Train Accuracy: 0.8835, Test Accuracy: 0.8507\n",
      "Epoch 28/100, Loss: 0.3824, Train Accuracy: 0.8843, Test Accuracy: 0.8468\n",
      "Epoch 29/100, Loss: 0.3787, Train Accuracy: 0.8851, Test Accuracy: 0.8488\n",
      "Epoch 30/100, Loss: 0.3756, Train Accuracy: 0.8864, Test Accuracy: 0.8481\n",
      "Epoch 31/100, Loss: 0.3724, Train Accuracy: 0.8881, Test Accuracy: 0.8481\n",
      "Epoch 32/100, Loss: 0.3692, Train Accuracy: 0.8890, Test Accuracy: 0.8481\n",
      "Epoch 33/100, Loss: 0.3661, Train Accuracy: 0.8909, Test Accuracy: 0.8443\n",
      "Epoch 34/100, Loss: 0.3634, Train Accuracy: 0.8904, Test Accuracy: 0.8481\n",
      "Epoch 35/100, Loss: 0.3607, Train Accuracy: 0.8911, Test Accuracy: 0.8481\n",
      "Epoch 36/100, Loss: 0.3579, Train Accuracy: 0.8923, Test Accuracy: 0.8514\n",
      "Epoch 37/100, Loss: 0.3551, Train Accuracy: 0.8927, Test Accuracy: 0.8514\n",
      "Epoch 38/100, Loss: 0.3527, Train Accuracy: 0.8943, Test Accuracy: 0.8514\n",
      "Epoch 39/100, Loss: 0.3502, Train Accuracy: 0.8952, Test Accuracy: 0.8501\n",
      "Epoch 40/100, Loss: 0.3476, Train Accuracy: 0.8953, Test Accuracy: 0.8488\n",
      "Epoch 41/100, Loss: 0.3453, Train Accuracy: 0.8962, Test Accuracy: 0.8494\n",
      "Epoch 42/100, Loss: 0.3429, Train Accuracy: 0.8965, Test Accuracy: 0.8494\n",
      "Epoch 43/100, Loss: 0.3409, Train Accuracy: 0.8973, Test Accuracy: 0.8507\n",
      "Epoch 44/100, Loss: 0.3386, Train Accuracy: 0.8989, Test Accuracy: 0.8514\n",
      "Epoch 45/100, Loss: 0.3366, Train Accuracy: 0.8981, Test Accuracy: 0.8520\n",
      "Epoch 46/100, Loss: 0.3343, Train Accuracy: 0.8991, Test Accuracy: 0.8488\n",
      "Epoch 47/100, Loss: 0.3325, Train Accuracy: 0.9008, Test Accuracy: 0.8501\n",
      "Epoch 48/100, Loss: 0.3305, Train Accuracy: 0.8995, Test Accuracy: 0.8520\n",
      "Epoch 49/100, Loss: 0.3286, Train Accuracy: 0.9014, Test Accuracy: 0.8533\n",
      "Epoch 50/100, Loss: 0.3269, Train Accuracy: 0.9017, Test Accuracy: 0.8507\n",
      "Epoch 51/100, Loss: 0.3246, Train Accuracy: 0.9019, Test Accuracy: 0.8488\n",
      "Epoch 52/100, Loss: 0.3230, Train Accuracy: 0.9030, Test Accuracy: 0.8507\n",
      "Epoch 53/100, Loss: 0.3215, Train Accuracy: 0.9025, Test Accuracy: 0.8526\n",
      "Epoch 54/100, Loss: 0.3197, Train Accuracy: 0.9032, Test Accuracy: 0.8533\n",
      "Epoch 55/100, Loss: 0.3181, Train Accuracy: 0.9040, Test Accuracy: 0.8501\n",
      "Epoch 56/100, Loss: 0.3164, Train Accuracy: 0.9038, Test Accuracy: 0.8571\n",
      "Epoch 57/100, Loss: 0.3148, Train Accuracy: 0.9051, Test Accuracy: 0.8481\n",
      "Epoch 58/100, Loss: 0.3133, Train Accuracy: 0.9064, Test Accuracy: 0.8488\n",
      "Epoch 59/100, Loss: 0.3117, Train Accuracy: 0.9061, Test Accuracy: 0.8514\n",
      "Epoch 60/100, Loss: 0.3102, Train Accuracy: 0.9069, Test Accuracy: 0.8501\n",
      "Epoch 61/100, Loss: 0.3085, Train Accuracy: 0.9074, Test Accuracy: 0.8526\n",
      "Epoch 62/100, Loss: 0.3072, Train Accuracy: 0.9076, Test Accuracy: 0.8514\n",
      "Epoch 63/100, Loss: 0.3056, Train Accuracy: 0.9078, Test Accuracy: 0.8578\n",
      "Epoch 64/100, Loss: 0.3044, Train Accuracy: 0.9098, Test Accuracy: 0.8533\n",
      "Epoch 65/100, Loss: 0.3028, Train Accuracy: 0.9100, Test Accuracy: 0.8539\n",
      "Epoch 66/100, Loss: 0.3018, Train Accuracy: 0.9096, Test Accuracy: 0.8514\n",
      "Epoch 67/100, Loss: 0.3003, Train Accuracy: 0.9098, Test Accuracy: 0.8507\n",
      "Epoch 68/100, Loss: 0.2989, Train Accuracy: 0.9105, Test Accuracy: 0.8520\n",
      "Epoch 69/100, Loss: 0.2977, Train Accuracy: 0.9105, Test Accuracy: 0.8520\n",
      "Epoch 70/100, Loss: 0.2963, Train Accuracy: 0.9108, Test Accuracy: 0.8546\n",
      "Epoch 71/100, Loss: 0.2951, Train Accuracy: 0.9127, Test Accuracy: 0.8501\n",
      "Epoch 72/100, Loss: 0.2941, Train Accuracy: 0.9112, Test Accuracy: 0.8533\n",
      "Epoch 73/100, Loss: 0.2928, Train Accuracy: 0.9114, Test Accuracy: 0.8539\n",
      "Epoch 74/100, Loss: 0.2915, Train Accuracy: 0.9125, Test Accuracy: 0.8526\n",
      "Epoch 75/100, Loss: 0.2906, Train Accuracy: 0.9135, Test Accuracy: 0.8520\n",
      "Epoch 76/100, Loss: 0.2894, Train Accuracy: 0.9128, Test Accuracy: 0.8514\n",
      "Epoch 77/100, Loss: 0.2883, Train Accuracy: 0.9127, Test Accuracy: 0.8539\n",
      "Epoch 78/100, Loss: 0.2873, Train Accuracy: 0.9124, Test Accuracy: 0.8520\n",
      "Epoch 79/100, Loss: 0.2862, Train Accuracy: 0.9137, Test Accuracy: 0.8507\n",
      "Epoch 80/100, Loss: 0.2849, Train Accuracy: 0.9147, Test Accuracy: 0.8520\n",
      "Epoch 81/100, Loss: 0.2840, Train Accuracy: 0.9142, Test Accuracy: 0.8494\n",
      "Epoch 82/100, Loss: 0.2831, Train Accuracy: 0.9153, Test Accuracy: 0.8533\n",
      "Epoch 83/100, Loss: 0.2820, Train Accuracy: 0.9162, Test Accuracy: 0.8552\n",
      "Epoch 84/100, Loss: 0.2811, Train Accuracy: 0.9149, Test Accuracy: 0.8533\n",
      "Epoch 85/100, Loss: 0.2799, Train Accuracy: 0.9142, Test Accuracy: 0.8526\n",
      "Epoch 86/100, Loss: 0.2791, Train Accuracy: 0.9163, Test Accuracy: 0.8507\n",
      "Epoch 87/100, Loss: 0.2780, Train Accuracy: 0.9157, Test Accuracy: 0.8533\n",
      "Epoch 88/100, Loss: 0.2773, Train Accuracy: 0.9160, Test Accuracy: 0.8526\n",
      "Epoch 89/100, Loss: 0.2761, Train Accuracy: 0.9163, Test Accuracy: 0.8507\n",
      "Epoch 90/100, Loss: 0.2753, Train Accuracy: 0.9165, Test Accuracy: 0.8546\n",
      "Epoch 91/100, Loss: 0.2743, Train Accuracy: 0.9170, Test Accuracy: 0.8546\n",
      "Epoch 92/100, Loss: 0.2734, Train Accuracy: 0.9176, Test Accuracy: 0.8546\n",
      "Epoch 93/100, Loss: 0.2727, Train Accuracy: 0.9190, Test Accuracy: 0.8559\n",
      "Epoch 94/100, Loss: 0.2717, Train Accuracy: 0.9181, Test Accuracy: 0.8539\n",
      "Epoch 95/100, Loss: 0.2709, Train Accuracy: 0.9183, Test Accuracy: 0.8578\n",
      "Epoch 96/100, Loss: 0.2700, Train Accuracy: 0.9181, Test Accuracy: 0.8552\n",
      "Epoch 97/100, Loss: 0.2692, Train Accuracy: 0.9177, Test Accuracy: 0.8533\n",
      "Epoch 98/100, Loss: 0.2685, Train Accuracy: 0.9183, Test Accuracy: 0.8571\n",
      "Epoch 99/100, Loss: 0.2676, Train Accuracy: 0.9184, Test Accuracy: 0.8559\n",
      "Epoch 100/100, Loss: 0.2668, Train Accuracy: 0.9181, Test Accuracy: 0.8546\n"
     ]
    }
   ],
   "source": [
    "trainModel(mlp_model_torch, train_loader, mlp_opt, loss_function)\n",
    "\n"
   ]
  },
  {
   "cell_type": "code",
   "execution_count": 15,
   "metadata": {},
   "outputs": [
    {
     "name": "stdout",
     "output_type": "stream",
     "text": [
      "train_features shape: (15707, 426), data type: int16\n",
      "train_labels shape: torch.Size([15707]), data type: torch.int64\n",
      "test_features shape: (1554, 426), data type: int16\n",
      "test_labels shape: torch.Size([1554]), data type: torch.int64\n",
      "train_features range: 0 to 14998\n",
      "test_features range: 0 to 6908\n",
      "Unique classes in train_labels: [0 1 2 3 4 5 6 7]\n",
      "Unique classes in test_labels: [0 1 2 3 4 5 6 7]\n",
      "Train class counts: [2519  821 1575 3980 2640   88  852 3232]\n",
      "Test class counts: [389  30 278 404 100  22  43 288]\n"
     ]
    }
   ],
   "source": [
    "print(f\"train_features shape: {train_features.shape}, data type: {train_features.dtype}\")\n",
    "print(f\"train_labels shape: {train_labels.shape}, data type: {train_labels.dtype}\")\n",
    "print(f\"test_features shape: {test_features.shape}, data type: {test_features.dtype}\")\n",
    "print(f\"test_labels shape: {test_labels.shape}, data type: {test_labels.dtype}\")\n",
    "\n",
    "print(f\"train_features range: {train_features.min()} to {train_features.max()}\")\n",
    "print(f\"test_features range: {test_features.min()} to {test_features.max()}\")\n",
    "\n",
    "print(f\"Unique classes in train_labels: {np.unique(train_labels)}\")\n",
    "print(f\"Unique classes in test_labels: {np.unique(test_labels)}\")\n",
    "\n",
    "train_class_counts = np.bincount(train_labels.numpy())  # Assuming train_labels is a tensor\n",
    "test_class_counts = np.bincount(test_labels.numpy())  # Assuming test_labels is a tensor\n",
    "print(f\"Train class counts: {train_class_counts}\")\n",
    "print(f\"Test class counts: {test_class_counts}\")\n"
   ]
  },
  {
   "cell_type": "code",
   "execution_count": 16,
   "metadata": {},
   "outputs": [
    {
     "name": "stdout",
     "output_type": "stream",
     "text": [
      "Linear Train Accuracy with scikit-learn: 0.8553511173362195\n",
      "Linear Test Accuracy with scikit-learn: 0.833976833976834\n",
      "MLP Train Accuracy with scikit-learn : 0.9999363341185459\n",
      "MLP Test Accuracy with scikit-learn : 0.824967824967825\n",
      "Linear Train Accuracy with PyTorch: 0.8480295409689947\n",
      "Linear Test Accuracy with Pytorch: 0.8268983268983269\n",
      "MLP Train Accuracy with Pytorch: 0.9181256764499904\n",
      "MLP Test Accuracy with Pytorch: 0.8545688545688546\n"
     ]
    }
   ],
   "source": [
    "print(f\"Linear Train Accuracy with scikit-learn: {linear_sklearn_accuracy_train}\")\n",
    "print(f\"Linear Test Accuracy with scikit-learn: {linear_sklearn_accuracy_test}\")\n",
    "\n",
    "print(f\"MLP Train Accuracy with scikit-learn : {mlp_sklearn_accuracy_train}\")\n",
    "print(f\"MLP Test Accuracy with scikit-learn : {mlp_sklearn_accuracy_test}\")\n",
    "\n",
    "print(f\"Linear Train Accuracy with PyTorch: {accuracy(linear_model_torch, train_loader)}\")\n",
    "print(f\"Linear Test Accuracy with Pytorch: {accuracy(linear_model_torch, test_loader)}\")\n",
    "\n",
    "print(f\"MLP Train Accuracy with Pytorch: {accuracy(mlp_model_torch, train_loader)}\")\n",
    "print(f\"MLP Test Accuracy with Pytorch: {accuracy(mlp_model_torch, test_loader)}\")"
   ]
  }
 ],
 "metadata": {
  "colab": {
   "authorship_tag": "ABX9TyNabx6sCRInWIIstR96Z5ey",
   "name": "",
   "version": ""
  },
  "kernelspec": {
   "display_name": "Python 3",
   "name": "python3"
  },
  "language_info": {
   "codemirror_mode": {
    "name": "ipython",
    "version": 3
   },
   "file_extension": ".py",
   "mimetype": "text/x-python",
   "name": "python",
   "nbconvert_exporter": "python",
   "pygments_lexer": "ipython3",
   "version": "3.10.0"
  }
 },
 "nbformat": 4,
 "nbformat_minor": 0
}
