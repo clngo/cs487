{
 "cells": [
  {
   "cell_type": "code",
   "execution_count": null,
   "metadata": {
    "colab": {
     "background_save": true
    },
    "id": "5OUW75f1w56j"
   },
   "outputs": [],
   "source": [
    "import numpy as np\n",
    "import sklearn\n",
    "import torch\n",
    "import os"
   ]
  },
  {
   "cell_type": "code",
   "execution_count": null,
   "metadata": {
    "colab": {
     "background_save": true
    },
    "id": "CNAG8fBHw_ns"
   },
   "outputs": [],
   "source": [
    "if not os.path.exists('tree_species_classifier_data.npz'):\n",
    "  !wget -O tree_species_classifier_data.npz \"https://www.dropbox.com/scl/fi/b7mw23k3ifaeui9m8nnn3/tree_species_classifier_data.npz?rlkey=bgxp37c1t04i7q35waf3slc26&dl=1\""
   ]
  },
  {
   "cell_type": "code",
   "execution_count": null,
   "metadata": {
    "colab": {
     "background_save": true
    },
    "id": "XSnb9owtxT5w"
   },
   "outputs": [],
   "source": [
    "data = np.load('tree_species_classifier_data.npz')\n",
    "train_features = data['train_features']\n",
    "train_labels = data['train_labels']\n",
    "test_features = data['test_features']\n",
    "test_labels = data['test_labels']"
   ]
  }
 ],
 "metadata": {
  "colab": {
   "authorship_tag": "ABX9TyNabx6sCRInWIIstR96Z5ey",
   "name": "",
   "version": ""
  },
  "kernelspec": {
   "display_name": "Python 3",
   "name": "python3"
  },
  "language_info": {
   "name": "python"
  }
 },
 "nbformat": 4,
 "nbformat_minor": 0
}
