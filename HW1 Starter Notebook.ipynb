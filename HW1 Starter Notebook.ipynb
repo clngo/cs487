{
 "cells": [
  {
   "cell_type": "markdown",
   "metadata": {},
   "source": [
    "All code used to run the analysis is located in the online repository here:\n",
    "https://github.com/jonathanventura/canopy\n",
    "Files needed:Hyperspectral Imagery: data/NEON_D17_TEAK_DP1_20170627_181333_reflectance.tif\n"
   ]
  },
  {
   "cell_type": "code",
   "execution_count": 14,
   "metadata": {
    "colab": {
     "background_save": true
    },
    "id": "5OUW75f1w56j"
   },
   "outputs": [],
   "source": [
    "import numpy as np\n",
    "import sklearn\n",
    "import torch\n",
    "\n"
   ]
  },
  {
   "cell_type": "code",
   "execution_count": 15,
   "metadata": {
    "colab": {
     "background_save": true
    },
    "id": "CNAG8fBHw_ns"
   },
   "outputs": [],
   "source": [
    "#  Not needed as I have the actual file locally because this code wasn't working for me :/\n",
    "# if not os.path.exists('tree_species_classifier_data.npz'):\n",
    "#   !wget -O tree_species_classifier_data.npz \"https://www.dropbox.com/scl/fi/b7mw23k3ifaeui9m8nnn3/tree_species_classifier_data.npz?rlkey=bgxp37c1t04i7q35waf3slc26&dl=1\""
   ]
  },
  {
   "cell_type": "code",
   "execution_count": 16,
   "metadata": {
    "colab": {
     "background_save": true
    },
    "id": "XSnb9owtxT5w"
   },
   "outputs": [],
   "source": [
    "data = np.load('tree_species_classifier_data.npz')\n",
    "train_features = data['train_features']\n",
    "train_labels = data['train_labels']\n",
    "test_features = data['test_features']\n",
    "test_labels = data['test_labels']"
   ]
  },
  {
   "cell_type": "markdown",
   "metadata": {},
   "source": [
    "Step 1: Inspect the Data"
   ]
  },
  {
   "cell_type": "code",
   "execution_count": 17,
   "metadata": {},
   "outputs": [],
   "source": [
    "# Step 2: Preprocess the data with PCA\n",
    "train_labels = torch.tensor(train_labels).long()\n",
    "test_labels = torch.tensor(test_labels).long()\n",
    "\n",
    "# Fit the PCA model using 32 components and whiten = True from the instructions\n",
    "pca = sklearn.decomposition.PCA(n_components=32, whiten=True)\n",
    "pca_train_features = torch.tensor(pca.fit_transform(train_features)).float()\n",
    "pca_test_features = torch.tensor(pca.transform(test_features)).float()\n",
    "\n"
   ]
  },
  {
   "cell_type": "code",
   "execution_count": 18,
   "metadata": {},
   "outputs": [
    {
     "name": "stdout",
     "output_type": "stream",
     "text": [
      "pca_train_features shape: torch.Size([15707, 32])\n",
      "train_labels shape: torch.Size([15707])\n"
     ]
    }
   ],
   "source": [
    "print(f\"pca_train_features shape: {pca_train_features.shape}\")\n",
    "print(f\"train_labels shape: {train_labels.shape}\")\n"
   ]
  },
  {
   "cell_type": "code",
   "execution_count": 19,
   "metadata": {},
   "outputs": [],
   "source": [
    "# Step 3: Classifiers using scikit-learn\n",
    "\n",
    "linear_model = torch.nn.Sequential(\n",
    "    torch.nn.Linear(32, len(np.unique(train_labels))), # 32 inputs, number of train_label outputs\n",
    ")\n",
    "# Like in Lab 3.1, use Multi-Layer Perceptron (MLP) to implement all 100 hidden layers. \n",
    "mlp_model = torch.nn.Sequential(\n",
    "    torch.nn.Linear(32, 100), # 32 inputs, 1 hidden layer of size 100\n",
    "    \n",
    "    # hidden activation function, the magic happens\n",
    "    torch.nn.ReLU(),\n",
    "    \n",
    "    # 100 inputs, number of train_label outputs\n",
    "    torch.nn.Linear(100, len(np.unique(train_labels))) \n",
    ")\n"
   ]
  },
  {
   "cell_type": "code",
   "execution_count": 20,
   "metadata": {},
   "outputs": [],
   "source": [
    "# Create a cross-entropy loss function and a stochastic gradient descent (SGD) optimizer\n",
    "loss_function = torch.nn.CrossEntropyLoss()\n",
    "lr = 1e-2\n",
    "linear_opt = torch.optim.SGD(linear_model.parameters(), lr=lr, weight_decay=0.001)\n",
    "mlp_opt = torch.optim.SGD(mlp_model.parameters(), lr=lr, weight_decay=0.001)\n"
   ]
  },
  {
   "cell_type": "code",
   "execution_count": 21,
   "metadata": {},
   "outputs": [],
   "source": [
    "# Step 4: Classifiers using PyTorch\n",
    "\n",
    "# a. Create TensorDataset and DataLoader to train and test splits\n",
    "batch_size = 32\n",
    "\n",
    "train_dataset = torch.utils.data.TensorDataset(pca_train_features, train_labels)\n",
    "test_dataset = torch.utils.data.TensorDataset(pca_test_features, test_labels)\n",
    "\n",
    "train_loader = torch.utils.data.DataLoader(train_dataset, batch_size=batch_size, shuffle=True)\n",
    "test_loader = torch.utils.data.DataLoader(test_dataset, batch_size=batch_size, shuffle=False)"
   ]
  },
  {
   "cell_type": "code",
   "execution_count": 22,
   "metadata": {},
   "outputs": [],
   "source": [
    "# b. calculate model accuracy with data loader\n",
    "def accuracy(model, dataloader):\n",
    "    model.eval()\n",
    "    correct = 0\n",
    "    total = 0\n",
    "    \n",
    "    with torch.no_grad():\n",
    "        for batch_X, batch_y in dataloader:\n",
    "            z = model(batch_X)\n",
    "            sample, predicted_labels = torch.max(z, dim=1)\n",
    "            correct += (predicted_labels == batch_y).sum().item()\n",
    "            total += batch_y.size(0)\n",
    "\n",
    "    return correct/total\n"
   ]
  },
  {
   "cell_type": "code",
   "execution_count": 23,
   "metadata": {},
   "outputs": [],
   "source": [
    "# c. Function to train model\n",
    "\n",
    "def trainModel(model, train_loader, opt, loss_fn):\n",
    "    epochs = 100\n",
    "    for epoch in range(epochs):\n",
    "        model.train()\n",
    "        total_loss = 0\n",
    "\n",
    "        for batch_X, batch_y in train_loader:\n",
    "            opt.zero_grad()  # Zero out gradients\n",
    "\n",
    "            z = model(batch_X)  # Forward pass\n",
    "            loss = loss_fn(z, batch_y)  # Compute loss\n",
    "\n",
    "            loss.backward()  # Backpropagation\n",
    "            opt.step()  # Apply gradients\n",
    "\n",
    "            total_loss += loss.item()\n",
    "        train_accuracy = accuracy(model, train_loader)\n",
    "        test_accuracy = accuracy(model, test_loader)\n",
    "        \n",
    "        print(f\"Epoch {epoch+1}/{epochs}, Loss: {total_loss/len(train_loader):.4f}, \"\n",
    "              f\"Train Accuracy: {train_accuracy:.4f}, Test Accuracy: {test_accuracy:.4f}\")\n"
   ]
  },
  {
   "cell_type": "code",
   "execution_count": 24,
   "metadata": {},
   "outputs": [
    {
     "name": "stdout",
     "output_type": "stream",
     "text": [
      "Epoch 1/100, Loss: 1.4581, Train Accuracy: 0.7534, Test Accuracy: 0.7677\n",
      "Epoch 2/100, Loss: 0.9584, Train Accuracy: 0.7901, Test Accuracy: 0.7928\n",
      "Epoch 3/100, Loss: 0.8121, Train Accuracy: 0.8062, Test Accuracy: 0.7992\n",
      "Epoch 4/100, Loss: 0.7443, Train Accuracy: 0.8152, Test Accuracy: 0.8044\n",
      "Epoch 5/100, Loss: 0.7048, Train Accuracy: 0.8212, Test Accuracy: 0.8082\n",
      "Epoch 6/100, Loss: 0.6784, Train Accuracy: 0.8256, Test Accuracy: 0.8108\n",
      "Epoch 7/100, Loss: 0.6595, Train Accuracy: 0.8292, Test Accuracy: 0.8082\n",
      "Epoch 8/100, Loss: 0.6454, Train Accuracy: 0.8311, Test Accuracy: 0.8127\n",
      "Epoch 9/100, Loss: 0.6344, Train Accuracy: 0.8331, Test Accuracy: 0.8140\n",
      "Epoch 10/100, Loss: 0.6253, Train Accuracy: 0.8345, Test Accuracy: 0.8153\n",
      "Epoch 11/100, Loss: 0.6179, Train Accuracy: 0.8357, Test Accuracy: 0.8179\n",
      "Epoch 12/100, Loss: 0.6117, Train Accuracy: 0.8360, Test Accuracy: 0.8192\n",
      "Epoch 13/100, Loss: 0.6064, Train Accuracy: 0.8368, Test Accuracy: 0.8185\n",
      "Epoch 14/100, Loss: 0.6018, Train Accuracy: 0.8377, Test Accuracy: 0.8179\n",
      "Epoch 15/100, Loss: 0.5977, Train Accuracy: 0.8379, Test Accuracy: 0.8198\n",
      "Epoch 16/100, Loss: 0.5942, Train Accuracy: 0.8385, Test Accuracy: 0.8192\n",
      "Epoch 17/100, Loss: 0.5911, Train Accuracy: 0.8394, Test Accuracy: 0.8179\n",
      "Epoch 18/100, Loss: 0.5882, Train Accuracy: 0.8399, Test Accuracy: 0.8185\n",
      "Epoch 19/100, Loss: 0.5857, Train Accuracy: 0.8401, Test Accuracy: 0.8185\n",
      "Epoch 20/100, Loss: 0.5834, Train Accuracy: 0.8405, Test Accuracy: 0.8218\n",
      "Epoch 21/100, Loss: 0.5814, Train Accuracy: 0.8408, Test Accuracy: 0.8224\n",
      "Epoch 22/100, Loss: 0.5795, Train Accuracy: 0.8411, Test Accuracy: 0.8230\n",
      "Epoch 23/100, Loss: 0.5777, Train Accuracy: 0.8416, Test Accuracy: 0.8243\n",
      "Epoch 24/100, Loss: 0.5761, Train Accuracy: 0.8424, Test Accuracy: 0.8263\n",
      "Epoch 25/100, Loss: 0.5746, Train Accuracy: 0.8426, Test Accuracy: 0.8263\n",
      "Epoch 26/100, Loss: 0.5732, Train Accuracy: 0.8428, Test Accuracy: 0.8269\n",
      "Epoch 27/100, Loss: 0.5719, Train Accuracy: 0.8434, Test Accuracy: 0.8269\n",
      "Epoch 28/100, Loss: 0.5708, Train Accuracy: 0.8437, Test Accuracy: 0.8269\n",
      "Epoch 29/100, Loss: 0.5697, Train Accuracy: 0.8436, Test Accuracy: 0.8269\n",
      "Epoch 30/100, Loss: 0.5687, Train Accuracy: 0.8437, Test Accuracy: 0.8263\n",
      "Epoch 31/100, Loss: 0.5676, Train Accuracy: 0.8439, Test Accuracy: 0.8269\n",
      "Epoch 32/100, Loss: 0.5667, Train Accuracy: 0.8442, Test Accuracy: 0.8269\n",
      "Epoch 33/100, Loss: 0.5658, Train Accuracy: 0.8449, Test Accuracy: 0.8269\n",
      "Epoch 34/100, Loss: 0.5651, Train Accuracy: 0.8448, Test Accuracy: 0.8275\n",
      "Epoch 35/100, Loss: 0.5643, Train Accuracy: 0.8452, Test Accuracy: 0.8263\n",
      "Epoch 36/100, Loss: 0.5636, Train Accuracy: 0.8453, Test Accuracy: 0.8269\n",
      "Epoch 37/100, Loss: 0.5629, Train Accuracy: 0.8452, Test Accuracy: 0.8250\n",
      "Epoch 38/100, Loss: 0.5623, Train Accuracy: 0.8458, Test Accuracy: 0.8256\n",
      "Epoch 39/100, Loss: 0.5616, Train Accuracy: 0.8458, Test Accuracy: 0.8256\n",
      "Epoch 40/100, Loss: 0.5610, Train Accuracy: 0.8457, Test Accuracy: 0.8269\n",
      "Epoch 41/100, Loss: 0.5606, Train Accuracy: 0.8456, Test Accuracy: 0.8256\n",
      "Epoch 42/100, Loss: 0.5599, Train Accuracy: 0.8460, Test Accuracy: 0.8263\n",
      "Epoch 43/100, Loss: 0.5595, Train Accuracy: 0.8460, Test Accuracy: 0.8269\n",
      "Epoch 44/100, Loss: 0.5591, Train Accuracy: 0.8464, Test Accuracy: 0.8263\n",
      "Epoch 45/100, Loss: 0.5585, Train Accuracy: 0.8463, Test Accuracy: 0.8269\n",
      "Epoch 46/100, Loss: 0.5582, Train Accuracy: 0.8463, Test Accuracy: 0.8243\n",
      "Epoch 47/100, Loss: 0.5576, Train Accuracy: 0.8466, Test Accuracy: 0.8250\n",
      "Epoch 48/100, Loss: 0.5571, Train Accuracy: 0.8466, Test Accuracy: 0.8263\n",
      "Epoch 49/100, Loss: 0.5568, Train Accuracy: 0.8466, Test Accuracy: 0.8250\n",
      "Epoch 50/100, Loss: 0.5565, Train Accuracy: 0.8468, Test Accuracy: 0.8237\n",
      "Epoch 51/100, Loss: 0.5561, Train Accuracy: 0.8467, Test Accuracy: 0.8250\n",
      "Epoch 52/100, Loss: 0.5557, Train Accuracy: 0.8466, Test Accuracy: 0.8250\n",
      "Epoch 53/100, Loss: 0.5554, Train Accuracy: 0.8469, Test Accuracy: 0.8282\n",
      "Epoch 54/100, Loss: 0.5551, Train Accuracy: 0.8470, Test Accuracy: 0.8282\n",
      "Epoch 55/100, Loss: 0.5547, Train Accuracy: 0.8466, Test Accuracy: 0.8263\n",
      "Epoch 56/100, Loss: 0.5545, Train Accuracy: 0.8468, Test Accuracy: 0.8263\n",
      "Epoch 57/100, Loss: 0.5542, Train Accuracy: 0.8470, Test Accuracy: 0.8256\n",
      "Epoch 58/100, Loss: 0.5541, Train Accuracy: 0.8471, Test Accuracy: 0.8263\n",
      "Epoch 59/100, Loss: 0.5536, Train Accuracy: 0.8475, Test Accuracy: 0.8263\n",
      "Epoch 60/100, Loss: 0.5534, Train Accuracy: 0.8473, Test Accuracy: 0.8263\n",
      "Epoch 61/100, Loss: 0.5532, Train Accuracy: 0.8474, Test Accuracy: 0.8275\n",
      "Epoch 62/100, Loss: 0.5530, Train Accuracy: 0.8472, Test Accuracy: 0.8263\n",
      "Epoch 63/100, Loss: 0.5526, Train Accuracy: 0.8472, Test Accuracy: 0.8269\n",
      "Epoch 64/100, Loss: 0.5525, Train Accuracy: 0.8474, Test Accuracy: 0.8256\n",
      "Epoch 65/100, Loss: 0.5522, Train Accuracy: 0.8473, Test Accuracy: 0.8269\n",
      "Epoch 66/100, Loss: 0.5520, Train Accuracy: 0.8473, Test Accuracy: 0.8269\n",
      "Epoch 67/100, Loss: 0.5518, Train Accuracy: 0.8476, Test Accuracy: 0.8263\n",
      "Epoch 68/100, Loss: 0.5516, Train Accuracy: 0.8476, Test Accuracy: 0.8250\n",
      "Epoch 69/100, Loss: 0.5515, Train Accuracy: 0.8477, Test Accuracy: 0.8256\n",
      "Epoch 70/100, Loss: 0.5513, Train Accuracy: 0.8479, Test Accuracy: 0.8250\n",
      "Epoch 71/100, Loss: 0.5510, Train Accuracy: 0.8476, Test Accuracy: 0.8250\n",
      "Epoch 72/100, Loss: 0.5510, Train Accuracy: 0.8476, Test Accuracy: 0.8263\n",
      "Epoch 73/100, Loss: 0.5507, Train Accuracy: 0.8478, Test Accuracy: 0.8269\n",
      "Epoch 74/100, Loss: 0.5507, Train Accuracy: 0.8476, Test Accuracy: 0.8256\n",
      "Epoch 75/100, Loss: 0.5505, Train Accuracy: 0.8478, Test Accuracy: 0.8282\n",
      "Epoch 76/100, Loss: 0.5502, Train Accuracy: 0.8475, Test Accuracy: 0.8282\n",
      "Epoch 77/100, Loss: 0.5501, Train Accuracy: 0.8479, Test Accuracy: 0.8263\n",
      "Epoch 78/100, Loss: 0.5499, Train Accuracy: 0.8478, Test Accuracy: 0.8256\n",
      "Epoch 79/100, Loss: 0.5499, Train Accuracy: 0.8477, Test Accuracy: 0.8269\n",
      "Epoch 80/100, Loss: 0.5496, Train Accuracy: 0.8479, Test Accuracy: 0.8269\n",
      "Epoch 81/100, Loss: 0.5497, Train Accuracy: 0.8479, Test Accuracy: 0.8269\n",
      "Epoch 82/100, Loss: 0.5494, Train Accuracy: 0.8477, Test Accuracy: 0.8256\n",
      "Epoch 83/100, Loss: 0.5493, Train Accuracy: 0.8478, Test Accuracy: 0.8263\n",
      "Epoch 84/100, Loss: 0.5492, Train Accuracy: 0.8478, Test Accuracy: 0.8269\n",
      "Epoch 85/100, Loss: 0.5491, Train Accuracy: 0.8478, Test Accuracy: 0.8269\n",
      "Epoch 86/100, Loss: 0.5490, Train Accuracy: 0.8477, Test Accuracy: 0.8275\n",
      "Epoch 87/100, Loss: 0.5489, Train Accuracy: 0.8478, Test Accuracy: 0.8269\n",
      "Epoch 88/100, Loss: 0.5488, Train Accuracy: 0.8478, Test Accuracy: 0.8275\n",
      "Epoch 89/100, Loss: 0.5487, Train Accuracy: 0.8477, Test Accuracy: 0.8275\n",
      "Epoch 90/100, Loss: 0.5486, Train Accuracy: 0.8482, Test Accuracy: 0.8269\n",
      "Epoch 91/100, Loss: 0.5484, Train Accuracy: 0.8482, Test Accuracy: 0.8263\n",
      "Epoch 92/100, Loss: 0.5484, Train Accuracy: 0.8479, Test Accuracy: 0.8275\n",
      "Epoch 93/100, Loss: 0.5482, Train Accuracy: 0.8482, Test Accuracy: 0.8269\n",
      "Epoch 94/100, Loss: 0.5481, Train Accuracy: 0.8482, Test Accuracy: 0.8269\n",
      "Epoch 95/100, Loss: 0.5482, Train Accuracy: 0.8480, Test Accuracy: 0.8282\n",
      "Epoch 96/100, Loss: 0.5479, Train Accuracy: 0.8480, Test Accuracy: 0.8269\n",
      "Epoch 97/100, Loss: 0.5478, Train Accuracy: 0.8481, Test Accuracy: 0.8275\n",
      "Epoch 98/100, Loss: 0.5478, Train Accuracy: 0.8484, Test Accuracy: 0.8282\n",
      "Epoch 99/100, Loss: 0.5478, Train Accuracy: 0.8485, Test Accuracy: 0.8275\n",
      "Epoch 100/100, Loss: 0.5477, Train Accuracy: 0.8484, Test Accuracy: 0.8282\n",
      "Linear Train Accuracy 0.8484115362577195\n",
      "Linear Test Accuracy 0.8281853281853282\n"
     ]
    }
   ],
   "source": [
    "trainModel(linear_model, train_loader, linear_opt, loss_function)\n",
    "print(f\"Linear Train Accuracy {accuracy(linear_model, train_loader)}\")\n",
    "print(f\"Linear Test Accuracy {accuracy(linear_model, test_loader)}\")"
   ]
  },
  {
   "cell_type": "code",
   "execution_count": 25,
   "metadata": {},
   "outputs": [
    {
     "name": "stdout",
     "output_type": "stream",
     "text": [
      "Epoch 1/100, Loss: 1.6640, Train Accuracy: 0.6493, Test Accuracy: 0.6338\n",
      "Epoch 2/100, Loss: 1.1015, Train Accuracy: 0.7689, Test Accuracy: 0.7844\n",
      "Epoch 3/100, Loss: 0.8156, Train Accuracy: 0.7973, Test Accuracy: 0.8037\n",
      "Epoch 4/100, Loss: 0.6903, Train Accuracy: 0.8162, Test Accuracy: 0.8102\n",
      "Epoch 5/100, Loss: 0.6242, Train Accuracy: 0.8292, Test Accuracy: 0.8172\n",
      "Epoch 6/100, Loss: 0.5827, Train Accuracy: 0.8366, Test Accuracy: 0.8179\n",
      "Epoch 7/100, Loss: 0.5537, Train Accuracy: 0.8427, Test Accuracy: 0.8275\n",
      "Epoch 8/100, Loss: 0.5321, Train Accuracy: 0.8481, Test Accuracy: 0.8353\n",
      "Epoch 9/100, Loss: 0.5150, Train Accuracy: 0.8511, Test Accuracy: 0.8340\n",
      "Epoch 10/100, Loss: 0.5013, Train Accuracy: 0.8539, Test Accuracy: 0.8333\n",
      "Epoch 11/100, Loss: 0.4896, Train Accuracy: 0.8578, Test Accuracy: 0.8366\n",
      "Epoch 12/100, Loss: 0.4792, Train Accuracy: 0.8592, Test Accuracy: 0.8411\n",
      "Epoch 13/100, Loss: 0.4702, Train Accuracy: 0.8618, Test Accuracy: 0.8430\n",
      "Epoch 14/100, Loss: 0.4618, Train Accuracy: 0.8638, Test Accuracy: 0.8449\n",
      "Epoch 15/100, Loss: 0.4542, Train Accuracy: 0.8658, Test Accuracy: 0.8430\n",
      "Epoch 16/100, Loss: 0.4473, Train Accuracy: 0.8671, Test Accuracy: 0.8443\n",
      "Epoch 17/100, Loss: 0.4410, Train Accuracy: 0.8692, Test Accuracy: 0.8456\n",
      "Epoch 18/100, Loss: 0.4352, Train Accuracy: 0.8714, Test Accuracy: 0.8494\n",
      "Epoch 19/100, Loss: 0.4297, Train Accuracy: 0.8729, Test Accuracy: 0.8475\n",
      "Epoch 20/100, Loss: 0.4244, Train Accuracy: 0.8739, Test Accuracy: 0.8481\n",
      "Epoch 21/100, Loss: 0.4196, Train Accuracy: 0.8753, Test Accuracy: 0.8481\n",
      "Epoch 22/100, Loss: 0.4147, Train Accuracy: 0.8769, Test Accuracy: 0.8430\n",
      "Epoch 23/100, Loss: 0.4103, Train Accuracy: 0.8773, Test Accuracy: 0.8501\n",
      "Epoch 24/100, Loss: 0.4061, Train Accuracy: 0.8792, Test Accuracy: 0.8468\n",
      "Epoch 25/100, Loss: 0.4020, Train Accuracy: 0.8806, Test Accuracy: 0.8488\n",
      "Epoch 26/100, Loss: 0.3980, Train Accuracy: 0.8815, Test Accuracy: 0.8507\n",
      "Epoch 27/100, Loss: 0.3943, Train Accuracy: 0.8830, Test Accuracy: 0.8488\n",
      "Epoch 28/100, Loss: 0.3908, Train Accuracy: 0.8836, Test Accuracy: 0.8481\n",
      "Epoch 29/100, Loss: 0.3872, Train Accuracy: 0.8850, Test Accuracy: 0.8507\n",
      "Epoch 30/100, Loss: 0.3838, Train Accuracy: 0.8861, Test Accuracy: 0.8520\n",
      "Epoch 31/100, Loss: 0.3806, Train Accuracy: 0.8871, Test Accuracy: 0.8520\n",
      "Epoch 32/100, Loss: 0.3773, Train Accuracy: 0.8876, Test Accuracy: 0.8520\n",
      "Epoch 33/100, Loss: 0.3743, Train Accuracy: 0.8886, Test Accuracy: 0.8533\n",
      "Epoch 34/100, Loss: 0.3713, Train Accuracy: 0.8902, Test Accuracy: 0.8494\n",
      "Epoch 35/100, Loss: 0.3683, Train Accuracy: 0.8903, Test Accuracy: 0.8546\n",
      "Epoch 36/100, Loss: 0.3654, Train Accuracy: 0.8913, Test Accuracy: 0.8514\n",
      "Epoch 37/100, Loss: 0.3624, Train Accuracy: 0.8932, Test Accuracy: 0.8578\n",
      "Epoch 38/100, Loss: 0.3598, Train Accuracy: 0.8939, Test Accuracy: 0.8552\n",
      "Epoch 39/100, Loss: 0.3572, Train Accuracy: 0.8935, Test Accuracy: 0.8559\n",
      "Epoch 40/100, Loss: 0.3545, Train Accuracy: 0.8945, Test Accuracy: 0.8565\n",
      "Epoch 41/100, Loss: 0.3520, Train Accuracy: 0.8967, Test Accuracy: 0.8552\n",
      "Epoch 42/100, Loss: 0.3495, Train Accuracy: 0.8969, Test Accuracy: 0.8552\n",
      "Epoch 43/100, Loss: 0.3472, Train Accuracy: 0.8988, Test Accuracy: 0.8571\n",
      "Epoch 44/100, Loss: 0.3446, Train Accuracy: 0.8989, Test Accuracy: 0.8584\n",
      "Epoch 45/100, Loss: 0.3425, Train Accuracy: 0.8993, Test Accuracy: 0.8565\n",
      "Epoch 46/100, Loss: 0.3403, Train Accuracy: 0.9007, Test Accuracy: 0.8591\n",
      "Epoch 47/100, Loss: 0.3382, Train Accuracy: 0.9010, Test Accuracy: 0.8597\n",
      "Epoch 48/100, Loss: 0.3359, Train Accuracy: 0.9023, Test Accuracy: 0.8604\n",
      "Epoch 49/100, Loss: 0.3338, Train Accuracy: 0.9011, Test Accuracy: 0.8591\n",
      "Epoch 50/100, Loss: 0.3317, Train Accuracy: 0.9030, Test Accuracy: 0.8616\n",
      "Epoch 51/100, Loss: 0.3297, Train Accuracy: 0.9027, Test Accuracy: 0.8604\n",
      "Epoch 52/100, Loss: 0.3277, Train Accuracy: 0.9030, Test Accuracy: 0.8642\n",
      "Epoch 53/100, Loss: 0.3259, Train Accuracy: 0.9052, Test Accuracy: 0.8629\n",
      "Epoch 54/100, Loss: 0.3241, Train Accuracy: 0.9050, Test Accuracy: 0.8578\n",
      "Epoch 55/100, Loss: 0.3223, Train Accuracy: 0.9056, Test Accuracy: 0.8610\n",
      "Epoch 56/100, Loss: 0.3203, Train Accuracy: 0.9052, Test Accuracy: 0.8636\n",
      "Epoch 57/100, Loss: 0.3187, Train Accuracy: 0.9064, Test Accuracy: 0.8616\n",
      "Epoch 58/100, Loss: 0.3169, Train Accuracy: 0.9065, Test Accuracy: 0.8636\n",
      "Epoch 59/100, Loss: 0.3154, Train Accuracy: 0.9074, Test Accuracy: 0.8636\n",
      "Epoch 60/100, Loss: 0.3135, Train Accuracy: 0.9074, Test Accuracy: 0.8629\n",
      "Epoch 61/100, Loss: 0.3121, Train Accuracy: 0.9078, Test Accuracy: 0.8629\n",
      "Epoch 62/100, Loss: 0.3103, Train Accuracy: 0.9081, Test Accuracy: 0.8668\n",
      "Epoch 63/100, Loss: 0.3091, Train Accuracy: 0.9087, Test Accuracy: 0.8655\n",
      "Epoch 64/100, Loss: 0.3076, Train Accuracy: 0.9084, Test Accuracy: 0.8662\n",
      "Epoch 65/100, Loss: 0.3060, Train Accuracy: 0.9091, Test Accuracy: 0.8662\n",
      "Epoch 66/100, Loss: 0.3044, Train Accuracy: 0.9094, Test Accuracy: 0.8642\n",
      "Epoch 67/100, Loss: 0.3030, Train Accuracy: 0.9088, Test Accuracy: 0.8662\n",
      "Epoch 68/100, Loss: 0.3017, Train Accuracy: 0.9109, Test Accuracy: 0.8636\n",
      "Epoch 69/100, Loss: 0.3003, Train Accuracy: 0.9107, Test Accuracy: 0.8655\n",
      "Epoch 70/100, Loss: 0.2989, Train Accuracy: 0.9104, Test Accuracy: 0.8604\n",
      "Epoch 71/100, Loss: 0.2977, Train Accuracy: 0.9116, Test Accuracy: 0.8642\n",
      "Epoch 72/100, Loss: 0.2963, Train Accuracy: 0.9118, Test Accuracy: 0.8649\n",
      "Epoch 73/100, Loss: 0.2950, Train Accuracy: 0.9120, Test Accuracy: 0.8642\n",
      "Epoch 74/100, Loss: 0.2937, Train Accuracy: 0.9123, Test Accuracy: 0.8629\n",
      "Epoch 75/100, Loss: 0.2925, Train Accuracy: 0.9130, Test Accuracy: 0.8629\n",
      "Epoch 76/100, Loss: 0.2912, Train Accuracy: 0.9132, Test Accuracy: 0.8649\n",
      "Epoch 77/100, Loss: 0.2900, Train Accuracy: 0.9130, Test Accuracy: 0.8616\n",
      "Epoch 78/100, Loss: 0.2887, Train Accuracy: 0.9141, Test Accuracy: 0.8616\n",
      "Epoch 79/100, Loss: 0.2878, Train Accuracy: 0.9144, Test Accuracy: 0.8649\n",
      "Epoch 80/100, Loss: 0.2865, Train Accuracy: 0.9138, Test Accuracy: 0.8629\n",
      "Epoch 81/100, Loss: 0.2853, Train Accuracy: 0.9146, Test Accuracy: 0.8616\n",
      "Epoch 82/100, Loss: 0.2842, Train Accuracy: 0.9141, Test Accuracy: 0.8636\n",
      "Epoch 83/100, Loss: 0.2832, Train Accuracy: 0.9144, Test Accuracy: 0.8649\n",
      "Epoch 84/100, Loss: 0.2821, Train Accuracy: 0.9151, Test Accuracy: 0.8655\n",
      "Epoch 85/100, Loss: 0.2810, Train Accuracy: 0.9155, Test Accuracy: 0.8604\n",
      "Epoch 86/100, Loss: 0.2801, Train Accuracy: 0.9153, Test Accuracy: 0.8623\n",
      "Epoch 87/100, Loss: 0.2791, Train Accuracy: 0.9163, Test Accuracy: 0.8636\n",
      "Epoch 88/100, Loss: 0.2780, Train Accuracy: 0.9156, Test Accuracy: 0.8578\n",
      "Epoch 89/100, Loss: 0.2771, Train Accuracy: 0.9158, Test Accuracy: 0.8597\n",
      "Epoch 90/100, Loss: 0.2761, Train Accuracy: 0.9165, Test Accuracy: 0.8616\n",
      "Epoch 91/100, Loss: 0.2750, Train Accuracy: 0.9176, Test Accuracy: 0.8604\n",
      "Epoch 92/100, Loss: 0.2742, Train Accuracy: 0.9167, Test Accuracy: 0.8597\n",
      "Epoch 93/100, Loss: 0.2732, Train Accuracy: 0.9179, Test Accuracy: 0.8636\n",
      "Epoch 94/100, Loss: 0.2723, Train Accuracy: 0.9180, Test Accuracy: 0.8636\n",
      "Epoch 95/100, Loss: 0.2713, Train Accuracy: 0.9183, Test Accuracy: 0.8629\n",
      "Epoch 96/100, Loss: 0.2704, Train Accuracy: 0.9175, Test Accuracy: 0.8604\n",
      "Epoch 97/100, Loss: 0.2695, Train Accuracy: 0.9183, Test Accuracy: 0.8655\n",
      "Epoch 98/100, Loss: 0.2688, Train Accuracy: 0.9190, Test Accuracy: 0.8642\n",
      "Epoch 99/100, Loss: 0.2677, Train Accuracy: 0.9188, Test Accuracy: 0.8546\n",
      "Epoch 100/100, Loss: 0.2671, Train Accuracy: 0.9203, Test Accuracy: 0.8642\n",
      "MLP Train Accuracy 0.9202903164194308\n",
      "MLP Test Accuracy 0.8642213642213642\n"
     ]
    }
   ],
   "source": [
    "trainModel(mlp_model, train_loader, mlp_opt, loss_function)\n",
    "print(f\"MLP Train Accuracy {accuracy(mlp_model, train_loader)}\")\n",
    "print(f\"MLP Test Accuracy {accuracy(mlp_model, test_loader)}\")\n"
   ]
  }
 ],
 "metadata": {
  "colab": {
   "authorship_tag": "ABX9TyNabx6sCRInWIIstR96Z5ey",
   "name": "",
   "version": ""
  },
  "kernelspec": {
   "display_name": "Python 3",
   "name": "python3"
  },
  "language_info": {
   "codemirror_mode": {
    "name": "ipython",
    "version": 3
   },
   "file_extension": ".py",
   "mimetype": "text/x-python",
   "name": "python",
   "nbconvert_exporter": "python",
   "pygments_lexer": "ipython3",
   "version": "3.10.12"
  }
 },
 "nbformat": 4,
 "nbformat_minor": 0
}
