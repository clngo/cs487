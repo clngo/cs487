{
 "cells": [
  {
   "cell_type": "markdown",
   "metadata": {},
   "source": [
    "All code used to run the analysis is located in the online repository here:\n",
    "https://github.com/jonathanventura/canopy\n",
    "Files needed:Hyperspectral Imagery: data/NEON_D17_TEAK_DP1_20170627_181333_reflectance.tif\n"
   ]
  },
  {
   "cell_type": "code",
   "execution_count": 1,
   "metadata": {
    "colab": {
     "background_save": true
    },
    "id": "5OUW75f1w56j"
   },
   "outputs": [],
   "source": [
    "import numpy as np\n",
    "import sklearn\n",
    "import torch\n",
    "\n"
   ]
  },
  {
   "cell_type": "code",
   "execution_count": 2,
   "metadata": {
    "colab": {
     "background_save": true
    },
    "id": "CNAG8fBHw_ns"
   },
   "outputs": [],
   "source": [
    "#  Not needed as I have the actual file locally because this code wasn't working for me :/\n",
    "# if not os.path.exists('tree_species_classifier_data.npz'):\n",
    "#   !wget -O tree_species_classifier_data.npz \"https://www.dropbox.com/scl/fi/b7mw23k3ifaeui9m8nnn3/tree_species_classifier_data.npz?rlkey=bgxp37c1t04i7q35waf3slc26&dl=1\""
   ]
  },
  {
   "cell_type": "code",
   "execution_count": 3,
   "metadata": {
    "colab": {
     "background_save": true
    },
    "id": "XSnb9owtxT5w"
   },
   "outputs": [],
   "source": [
    "data = np.load('tree_species_classifier_data.npz')\n",
    "train_features = data['train_features']\n",
    "train_labels = data['train_labels']\n",
    "test_features = data['test_features']\n",
    "test_labels = data['test_labels']"
   ]
  },
  {
   "cell_type": "markdown",
   "metadata": {},
   "source": [
    "Step 1: Inspect the Data"
   ]
  },
  {
   "cell_type": "code",
   "execution_count": 4,
   "metadata": {},
   "outputs": [],
   "source": [
    "# Step 2: Preprocess the data with PCA\n",
    "\n",
    "# Fit the PCA model using 32 components and whiten = True from the instructions\n",
    "pca = sklearn.decomposition.PCA(n_components=32, whiten=True)\n",
    "pca_train_features = pca.fit_transform(train_features)\n",
    "pca_test_features = pca.transform(test_features)\n"
   ]
  },
  {
   "cell_type": "code",
   "execution_count": 5,
   "metadata": {},
   "outputs": [],
   "source": [
    "# Step 3: Classifiers using scikit-learn\n",
    "\n",
    "linear_model = torch.nn.Sequential(\n",
    "    torch.nn.Linear(32, len(np.unique(train_labels))), # 32 inputs, number of train_label outputs\n",
    ")\n",
    "# Like in Lab 3.1, use Multi-Layer Perceptron (MLP) to implement all 100 hidden layers. \n",
    "mlp_model = torch.nn.Sequential(\n",
    "    torch.nn.Linear(32, 100), # 32 inputs, 1 hidden layer of size 100\n",
    "    \n",
    "    # hidden activation function, the magic happens\n",
    "    torch.nn.ReLU(),\n",
    "    \n",
    "    # 100 inputs, number of train_label outputs\n",
    "    torch.nn.Linear(100, len(np.unique(train_labels))) \n",
    ")\n"
   ]
  },
  {
   "cell_type": "code",
   "execution_count": 6,
   "metadata": {},
   "outputs": [],
   "source": [
    "# Create a cross-entropy loss function and a stochastic gradient descent (SGD) optimizer\n",
    "loss_fn = torch.nn.CrossEntropyLoss()\n",
    "lr = 1e-2\n",
    "opt = torch.optim.SGD(mlp_model.parameters(), lr=lr)"
   ]
  },
  {
   "cell_type": "code",
   "execution_count": 7,
   "metadata": {},
   "outputs": [],
   "source": [
    "\n",
    "# Calculate accuracy on the test set for each classifier\n",
    "\n",
    "def accuracy(model, X, y):\n",
    "    \n",
    "    # Set model to evaluation mode \n",
    "    model.eval()\n",
    "\n",
    "    # Convert the test_features to a torch tensor\n",
    "    test_features_tensor = torch.tensor(X, dtype=torch.float32)\n",
    "    test_labels_tensor = torch.tensor(y, dtype=torch.long)\n",
    "\n",
    "    # Disable gradient inside the \"with\"\n",
    "    with torch.no_grad():\n",
    "        outputs = model(test_features_tensor)\n",
    "    \n",
    "    # First dimension of outputs are the samples (dim = 0)\n",
    "    # Second dimension of outputs are the labels (dim = 1)\n",
    "    # Get the highest predicted labels value for each sample in the \n",
    "    sample, predicted_labels = torch.max(outputs, dim=1)\n",
    "\n",
    "\n",
    "    # Calculate the accuracy (the number of correct predictions divided by total number of samples)\n",
    "    correct = (predicted_labels == test_labels_tensor).sum().item()\n",
    "\n",
    "    # size(0) refers to first dimension, which are the samples (dim = 0)\n",
    "    total = test_labels_tensor.size(0) \n",
    "\n",
    "    return correct/total\n",
    "\n"
   ]
  },
  {
   "cell_type": "code",
   "execution_count": 8,
   "metadata": {},
   "outputs": [
    {
     "data": {
      "text/plain": [
       "0.9163449163449163"
      ]
     },
     "execution_count": 8,
     "metadata": {},
     "output_type": "execute_result"
    }
   ],
   "source": [
    "# Calculate accuracy on the test set for each classifier\n",
    "\n",
    "# From Lab 1.2 Binary Linear Classifier\n",
    "logreg  = sklearn.linear_model.LogisticRegression()\n",
    "logreg.fit(pca_test_features, test_labels)\n",
    "logreg.score(pca_test_features, test_labels)\n",
    "\n"
   ]
  },
  {
   "cell_type": "code",
   "execution_count": 9,
   "metadata": {},
   "outputs": [
    {
     "name": "stderr",
     "output_type": "stream",
     "text": [
      "C:\\Users\\mrcol\\AppData\\Roaming\\Python\\Python310\\site-packages\\sklearn\\neural_network\\_multilayer_perceptron.py:691: ConvergenceWarning: Stochastic Optimizer: Maximum iterations (100) reached and the optimization hasn't converged yet.\n",
      "  warnings.warn(\n"
     ]
    },
    {
     "data": {
      "text/plain": [
       "0.9916344916344917"
      ]
     },
     "execution_count": 9,
     "metadata": {},
     "output_type": "execute_result"
    }
   ],
   "source": [
    "# Calculate accuracy on the test set for each classifier\n",
    "\n",
    "mlpnn = sklearn.neural_network.MLPClassifier(max_iter=100)\n",
    "mlpnn.fit(pca_test_features, test_labels)\n",
    "mlpnn.score(pca_test_features, test_labels)\n",
    "\n"
   ]
  },
  {
   "cell_type": "code",
   "execution_count": 10,
   "metadata": {},
   "outputs": [],
   "source": [
    "# Step 4: Classifiers using PyTorch\n",
    "\n",
    "# a. Create TensorDataset and DataLoader to train and test splits\n",
    "batch_size = 32\n",
    "\n",
    "train_dataset = torch.utils.data.TensorDataset(torch.tensor(pca_train_features, dtype=torch.float32),\n",
    "                               torch.tensor(train_labels, dtype=torch.long))\n",
    "test_dataset = torch.utils.data.TensorDataset(torch.tensor(pca_test_features, dtype=torch.float32),\n",
    "                              torch.tensor(test_labels, dtype=torch.long))\n",
    "\n",
    "\n",
    "train_loader = torch.utils.data.DataLoader(train_dataset, batch_size=batch_size, shuffle=True)\n",
    "test_loader = torch.utils.data.DataLoader(test_dataset, batch_size=batch_size, shuffle=False)"
   ]
  },
  {
   "cell_type": "code",
   "execution_count": 11,
   "metadata": {},
   "outputs": [],
   "source": [
    "# b. "
   ]
  }
 ],
 "metadata": {
  "colab": {
   "authorship_tag": "ABX9TyNabx6sCRInWIIstR96Z5ey",
   "name": "",
   "version": ""
  },
  "kernelspec": {
   "display_name": "Python 3",
   "name": "python3"
  },
  "language_info": {
   "codemirror_mode": {
    "name": "ipython",
    "version": 3
   },
   "file_extension": ".py",
   "mimetype": "text/x-python",
   "name": "python",
   "nbconvert_exporter": "python",
   "pygments_lexer": "ipython3",
   "version": "3.10.0"
  }
 },
 "nbformat": 4,
 "nbformat_minor": 0
}
